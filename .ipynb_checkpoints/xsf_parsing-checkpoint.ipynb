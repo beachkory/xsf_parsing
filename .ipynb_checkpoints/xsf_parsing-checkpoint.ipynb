{
 "cells": [
  {
   "cell_type": "code",
   "execution_count": 1,
   "metadata": {
    "collapsed": true
   },
   "outputs": [],
   "source": [
    "import numpy as np\n",
    "import re\n",
    "import glob"
   ]
  },
  {
   "cell_type": "code",
   "execution_count": 2,
   "metadata": {
    "collapsed": true
   },
   "outputs": [],
   "source": [
    "#Takes Quantum Espresso input as input file and outputs \n",
    "#requires ibrav=0. If atomic positions are specified in crystal, use angstrom_coords\n",
    "def get_coords(filepath):\n",
    "    nat = 0\n",
    "    current_at = 0\n",
    "    current_param = 0\n",
    "    \n",
    "    coords = []\n",
    "    cell_params = []\n",
    "    \n",
    "    record_coords = False\n",
    "    record_params = False\n",
    "    \n",
    "    with open(filepath) as fp:  \n",
    "        line = fp.readline()\n",
    "        cnt = 1\n",
    "        while line:\n",
    "            if 'nat' in line.strip():\n",
    "                nat = [int(x) for x in re.findall(r'\\d+', line.strip())][0]\n",
    "            if current_at <= nat and record_coords:\n",
    "                coords.append(line.strip().split())\n",
    "                current_at += 1\n",
    "            elif current_at == nat and record_coords:\n",
    "                record_coords = False\n",
    "            \n",
    "            if current_param <= 3 and record_params:\n",
    "                cell_params.append(line.strip().split())\n",
    "                current_param += 1\n",
    "            elif current_param == 3 and record_params:\n",
    "                record_params = False    \n",
    "                \n",
    "                \n",
    "            if 'ATOMIC_POSITIONS' in line.strip():\n",
    "                if 'crystal' in line.strip() or 'CRYSTAL' in line.strip():\n",
    "                    atomic_pos_type = 'crystal'\n",
    "                    record_coords = True\n",
    "                    current_at += 1\n",
    "                else:\n",
    "                    atomic_pos_type = 'not_crystal'\n",
    "            if 'CELL_PARAMETERS' in line.strip():\n",
    "                record_params = True\n",
    "                current_param += 1\n",
    "                \n",
    "                \n",
    "            line = fp.readline()\n",
    "            cnt += 1\n",
    "    \n",
    "    param_mags = []\n",
    "    for i in cell_params:\n",
    "        param_mags.append(np.linalg.norm([float(x) for x in i]))\n",
    "    \n",
    "    params2 = []\n",
    "    for x in cell_params:\n",
    "        params2.append([float(y) for y in x])\n",
    "    \n",
    "    angstrom_coords = []\n",
    "    for atom in coords:\n",
    "        name = atom[0]\n",
    "        coords2 = np.array([float(x) for x in atom[1:]])\n",
    "        new_coords = []\n",
    "\n",
    "        for i,val in enumerate(coords2):\n",
    "            new_coords.append([val*x for x in params2[i]])\n",
    "\n",
    "        x,y,z = 0,0,0\n",
    "        for row in new_coords:\n",
    "            x += row[0]\n",
    "            y += row[1]\n",
    "            z += row[2]\n",
    "        angstrom_coords.append([name,str(x),str(y),str(z)])\n",
    "    \n",
    "    types = []\n",
    "    for i in coords:\n",
    "        types.append(i[0])\n",
    "    types = list(set(types))\n",
    "    ntype = len(types)\n",
    "    \n",
    "    \n",
    "    out_dict = {\"coords\": coords, \"angstrom_coords\":angstrom_coords,\"cell_params\": cell_params, \"param_mags\":param_mags, \n",
    "                \"nat\": nat, \"types\":types, \"ntype\":ntype, \"atomic_pos_type\":atomic_pos_type}\n",
    "    \n",
    "    if out_dict['atomic_pos_type'] != 'crystal':\n",
    "        print(\"Error: Atomic position type was not crystal\")\n",
    "    else:\n",
    "        return out_dict\n",
    "\n",
    "def get_params_str(d,param,omit_atom=False):\n",
    "    pstr = ''\n",
    "    for i in d[param]:\n",
    "        if omit_atom:\n",
    "            for j in i[1:]:\n",
    "                pstr += str(j+' ')\n",
    "        else:\n",
    "            for j in i:\n",
    "                pstr += str(j+' ')\n",
    "        pstr += '\\n'\n",
    "    return pstr\n",
    "\n",
    "#gets 3D xsf data from pp.x output\n",
    "def get_xsf_data(filepath,d):\n",
    "    nat = d['nat']\n",
    "    ntype = d['ntype']    \n",
    "    \n",
    "    arr = []\n",
    "    dims = []\n",
    "    with open(filepath) as fp:  \n",
    "        line = fp.readline()\n",
    "        cnt = 1\n",
    "        while line:\n",
    "            if cnt == 2:\n",
    "                dims = [int(x) for x in line.strip().split()]\n",
    "            elif cnt >=7+nat+ntype+1:\n",
    "                arr.extend([float(x) for x in line.strip().split()])\n",
    "            line = fp.readline()\n",
    "            cnt += 1\n",
    "            \n",
    "    dstr = ''\n",
    "    for i in dims[:3]:\n",
    "        dstr += (str(i) + ' ')\n",
    "    return dstr, arr\n",
    "\n",
    "\n",
    "def get_xsf_string(arr,ncols=6):\n",
    "    \n",
    "    rem = len(arr)%ncols\n",
    "    ind = 0\n",
    "    l = []\n",
    "    for i in range(int(len(arr)/ncols)):\n",
    "        row = ''\n",
    "        for j in range(ind,ind+ncols):\n",
    "            row += str(arr[j]) + ' '\n",
    "        l.append(row)\n",
    "        ind+=ncols\n",
    "\n",
    "    row = ''\n",
    "    if rem !=0:\n",
    "        for i in range(ind,ind+rem):\n",
    "            row += str(arr[i]) + ' '\n",
    "        l.append(row)\n",
    "\n",
    "    final_str =''\n",
    "    for i in l:\n",
    "        final_str += i +'\\n'\n",
    "        \n",
    "    return final_str\n",
    "\n",
    "def write_xsf(outpath,dims,arr,d):\n",
    "       \n",
    "    xsfstr  = get_xsf_string(arr)\n",
    "    file1 = open(outpath,\"w\") \n",
    "    L = [\" CRYSTAL\\n\", \" PRIMVEC\\n\", get_params_str(d,'cell_params'),\n",
    "         ' PRIMCOORD\\n', str(d['nat'])+'\\n', get_params_str(d,'angstrom_coords'),\n",
    "        ' BEGIN_BLOCK_DATAGRID_3D\\n 3D_PWSCF\\n DATAGRID_3D_UNKNOWN\\n',\n",
    "        dims +'\\n', '0.000000  0.000000  0.000000\\n', get_params_str(d,'cell_params'),\n",
    "         xsfstr +'\\n', 'END_DATAGRID_3D\\n END_BLOCK_DATAGRID_3D']\n",
    "    file1.writelines(L) \n",
    "    file1.close() \n",
    "\n",
    "\n",
    "def single_wavefunction(xsfpath,outpath,scfpath='scf.in'):\n",
    "    \n",
    "    d = get_coords(scfpath)\n",
    "    dims, arr = get_xsf_data(xsfpath,d)\n",
    "    xsfstr  = get_xsf_string(arr)\n",
    "    \n",
    "    write_xsf(outpath,dims,arr,d)\n",
    "    \n",
    "\n",
    "def add_wavefunctions(pathlist,outpath,scfpath='scf.in'):        \n",
    "         \n",
    "    d = get_coords(scfpath)\n",
    "    arrs = []\n",
    "    \n",
    "    for file in pathlist:\n",
    "        dims, arr = get_xsf_data(xsfpath,d)\n",
    "        arrs.append(arr)\n",
    "    arr_out = np.zeros(len(arrs[0]))\n",
    "    for row in arrs:\n",
    "        arr_out += row\n",
    "\n",
    "    write_xsf(outpath,dims,arr_out,d)\n",
    "    \n"
   ]
  },
  {
   "cell_type": "code",
   "execution_count": 3,
   "metadata": {
    "collapsed": true
   },
   "outputs": [],
   "source": [
    "homos = []\n",
    "lumos = []\n",
    "homolumo = []\n",
    "pref = 'y.0'\n",
    "scfpath = 'scf.in'\n",
    "\n",
    "for filepath in glob.iglob(pref +'*o.txt'):\n",
    "#     if \"homo\" in filepath:\n",
    "#         homos.append(filepath)\n",
    "#     elif \"lumo\" in filepath:\n",
    "#         lumos.append(filepath)\n",
    "        homolumo.append(filepath)\n",
    "    \n",
    "# add_wavefunctions(homos,pref +'.homos.xsf',scfpath)\n",
    "# for i in homos:\n",
    "#     single_wavefunction(i,(i+'.xsf').replace('.txt',''),scfpath)\n",
    "\n",
    "# add_wavefunctions(lumos,pref +'.lumos.xsf',scfpath)\n",
    "# for i in lumos:\n",
    "#     single_wavefunction(i,(i+'.xsf').replace('.txt',''),scfpath)\n",
    "    \n",
    "#add_wavefunctions(homolumo,pref +'.homolumo.xsf',scfpath)\n",
    "# for i in homolumo:\n",
    "#     single_wavefunction(i,(i+'.xsf').replace('.txt',''),scfpath)\n",
    "    \n",
    "    "
   ]
  },
  {
   "cell_type": "code",
   "execution_count": 10,
   "metadata": {},
   "outputs": [
    {
     "data": {
      "text/plain": [
       "'y.0.g.lumo.xsf'"
      ]
     },
     "execution_count": 10,
     "metadata": {},
     "output_type": "execute_result"
    }
   ],
   "source": [
    "(lumos[0]+'.xsf').replace('.txt','')"
   ]
  },
  {
   "cell_type": "code",
   "execution_count": 4,
   "metadata": {},
   "outputs": [
    {
     "data": {
      "text/plain": [
       "['y.0.g.homo.txt', 'y.0.g.lumo.txt', 'y.0.k.homo.txt', 'y.0.k.lumo.txt']"
      ]
     },
     "execution_count": 4,
     "metadata": {},
     "output_type": "execute_result"
    }
   ],
   "source": [
    "homolumo"
   ]
  },
  {
   "cell_type": "code",
   "execution_count": 10,
   "metadata": {},
   "outputs": [
    {
     "data": {
      "text/plain": [
       "['S', 'Mo']"
      ]
     },
     "execution_count": 10,
     "metadata": {},
     "output_type": "execute_result"
    }
   ],
   "source": [
    "d = get_coords('scf.in')\n",
    "types = []\n",
    "for i in d['coords']:\n",
    "    types.append(i[0])\n",
    "types = list(set(types))\n",
    "ntype = len(types)"
   ]
  },
  {
   "cell_type": "code",
   "execution_count": null,
   "metadata": {
    "collapsed": true
   },
   "outputs": [],
   "source": []
  }
 ],
 "metadata": {
  "kernelspec": {
   "display_name": "Python 3",
   "language": "python",
   "name": "python3"
  },
  "language_info": {
   "codemirror_mode": {
    "name": "ipython",
    "version": 3
   },
   "file_extension": ".py",
   "mimetype": "text/x-python",
   "name": "python",
   "nbconvert_exporter": "python",
   "pygments_lexer": "ipython3",
   "version": "3.6.2"
  }
 },
 "nbformat": 4,
 "nbformat_minor": 2
}
