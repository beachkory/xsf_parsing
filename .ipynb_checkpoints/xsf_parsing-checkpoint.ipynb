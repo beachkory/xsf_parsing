{
 "cells": [
  {
   "cell_type": "code",
   "execution_count": 5,
   "metadata": {
    "collapsed": true
   },
   "outputs": [],
   "source": [
    "import numpy as np\n",
    "import re\n",
    "import glob"
   ]
  },
  {
   "cell_type": "code",
   "execution_count": 38,
   "metadata": {
    "collapsed": true
   },
   "outputs": [],
   "source": [
    "#Takes Quantum Espresso input as input file and outputs \n",
    "#requires ibrav=0. If atomic positions are specified in crystal, use angstrom_coords\n",
    "def get_coords(filepath):\n",
    "    nat = 0\n",
    "    current_at = 0\n",
    "    current_param = 0\n",
    "    \n",
    "    coords = []\n",
    "    cell_params = []\n",
    "    \n",
    "    record_coords = False\n",
    "    record_params = False\n",
    "    \n",
    "    with open(filepath) as fp:  \n",
    "        line = fp.readline()\n",
    "        cnt = 1\n",
    "        while line:\n",
    "            if 'nat' in line.strip():\n",
    "                nat = [int(x) for x in re.findall(r'\\d+', line.strip())][0]\n",
    "            if current_at <= nat and record_coords:\n",
    "                coords.append(line.strip().split())\n",
    "                current_at += 1\n",
    "            elif current_at == nat and record_coords:\n",
    "                record_coords = False\n",
    "            \n",
    "            if current_param <= 3 and record_params:\n",
    "                cell_params.append(line.strip().split())\n",
    "                current_param += 1\n",
    "            elif current_param == 3 and record_params:\n",
    "                record_params = False    \n",
    "                \n",
    "                \n",
    "            if 'ATOMIC_POSITIONS' in line.strip():\n",
    "                if 'crystal' in line.strip() or 'CRYSTAL' in line.strip():\n",
    "                    atomic_pos_type = 'crystal'\n",
    "                    record_coords = True\n",
    "                    current_at += 1\n",
    "                else:\n",
    "                    atomic_pos_type = 'not_crystal'\n",
    "            if 'CELL_PARAMETERS' in line.strip():\n",
    "                record_params = True\n",
    "                current_param += 1\n",
    "                \n",
    "                \n",
    "            line = fp.readline()\n",
    "            cnt += 1\n",
    "    \n",
    "    param_mags = []\n",
    "    for i in cell_params:\n",
    "        param_mags.append(np.linalg.norm([float(x) for x in i]))\n",
    "    \n",
    "    params2 = []\n",
    "    for x in cell_params:\n",
    "        params2.append([float(y) for y in x])\n",
    "    \n",
    "    angstrom_coords = []\n",
    "    for atom in coords:\n",
    "        name = atom[0]\n",
    "        coords2 = np.array([float(x) for x in atom[1:]])\n",
    "        new_coords = []\n",
    "\n",
    "        for i,val in enumerate(coords2):\n",
    "            new_coords.append([val*x for x in params2[i]])\n",
    "\n",
    "        x,y,z = 0,0,0\n",
    "        for row in new_coords:\n",
    "            x += row[0]\n",
    "            y += row[1]\n",
    "            z += row[2]\n",
    "        angstrom_coords.append([name,str(x),str(y),str(z)])\n",
    "    \n",
    "    types = []\n",
    "    for i in coords:\n",
    "        types.append(i[0])\n",
    "    types = list(set(types))\n",
    "    ntype = len(types)\n",
    "    \n",
    "    \n",
    "    out_dict = {\"coords\": coords, \"angstrom_coords\":angstrom_coords,\"cell_params\": cell_params, \"param_mags\":param_mags, \n",
    "                \"nat\": nat, \"types\":types, \"ntype\":ntype, \"atomic_pos_type\":atomic_pos_type}\n",
    "    \n",
    "    if out_dict['atomic_pos_type'] != 'crystal':\n",
    "        print(\"Error: Atomic position type was not crystal\")\n",
    "    else:\n",
    "        return out_dict\n",
    "\n",
    "def get_params_str(d,param,omit_atom=False):\n",
    "    pstr = ''\n",
    "    for i in d[param]:\n",
    "        if omit_atom:\n",
    "            for j in i[1:]:\n",
    "                pstr += str(j+' ')\n",
    "        else:\n",
    "            for j in i:\n",
    "                pstr += str(j+' ')\n",
    "        pstr += '\\n'\n",
    "    return pstr\n",
    "\n",
    "#gets 3D xsf data from pp.x output\n",
    "def get_xsf_data(filepath,d):\n",
    "    nat = d['nat']\n",
    "    ntype = d['ntype']    \n",
    "    \n",
    "    arr = []\n",
    "    dims = []\n",
    "    with open(filepath) as fp:  \n",
    "        line = fp.readline()\n",
    "        cnt = 1\n",
    "        while line:\n",
    "            if cnt == 2:\n",
    "                dims = [int(x) for x in line.strip().split()]\n",
    "            elif cnt >=7+nat+ntype+1:\n",
    "                arr.extend([float(x) for x in line.strip().split()])\n",
    "            line = fp.readline()\n",
    "            cnt += 1\n",
    "            \n",
    "    dstr = ''\n",
    "    for i in dims[:3]:\n",
    "        dstr += (str(i) + ' ')\n",
    "    return dstr, arr\n",
    "\n",
    "\n",
    "def get_xsf_string(arr,ncols=6):\n",
    "    \n",
    "    rem = len(arr)%ncols\n",
    "    ind = 0\n",
    "    l = []\n",
    "    for i in range(int(len(arr)/ncols)):\n",
    "        row = ''\n",
    "        for j in range(ind,ind+ncols):\n",
    "            row += str(arr[j]) + ' '\n",
    "        l.append(row)\n",
    "        ind+=ncols\n",
    "\n",
    "    row = ''\n",
    "    if rem !=0:\n",
    "        for i in range(ind,ind+rem):\n",
    "            row += str(arr[i]) + ' '\n",
    "        l.append(row)\n",
    "\n",
    "    final_str =''\n",
    "    for i in l:\n",
    "        final_str += i +'\\n'\n",
    "        \n",
    "    return final_str\n",
    "\n",
    "def write_xsf(outpath,dims,arr,d):\n",
    "       \n",
    "    xsfstr  = get_xsf_string(arr)\n",
    "    file1 = open(outpath,\"w\") \n",
    "    L = [\" CRYSTAL\\n\", \" PRIMVEC\\n\", get_params_str(d,'cell_params'),\n",
    "         ' PRIMCOORD\\n', str(d['nat'])+'\\n', get_params_str(d,'angstrom_coords'),\n",
    "        ' BEGIN_BLOCK_DATAGRID_3D\\n 3D_PWSCF\\n DATAGRID_3D_UNKNOWN\\n',\n",
    "        dims +'\\n', '0.000000  0.000000  0.000000\\n', get_params_str(d,'cell_params'),\n",
    "         xsfstr +'\\n', 'END_DATAGRID_3D\\n END_BLOCK_DATAGRID_3D']\n",
    "    file1.writelines(L) \n",
    "    file1.close() \n",
    "\n",
    "def get_sum_of_list(pathlist, d):\n",
    "    arrs = []\n",
    "    for file in pathlist:\n",
    "        dims, arr = get_xsf_data(file,d)\n",
    "        arrs.append(arr)\n",
    "    arr_out = np.zeros(len(arrs[0]))\n",
    "    for row in arrs:\n",
    "        arr_out += row\n",
    "    return dims, arr_out\n",
    "\n",
    "def single_wavefunction(xsfpath,outpath,scfpath='scf.in'):\n",
    "    \n",
    "    d = get_coords(scfpath)\n",
    "    dims, arr = get_xsf_data(xsfpath,d)\n",
    "    xsfstr  = get_xsf_string(arr)\n",
    "    \n",
    "    write_xsf(outpath,dims,arr,d)    \n",
    "\n",
    "\n",
    "def add_wavefunctions(pathlist,outpath,scfpath='scf.in'):        \n",
    "         \n",
    "    d = get_coords(scfpath)\n",
    "    dims, arr_out = get_sum_of_list(pathlist, d)\n",
    "    write_xsf(outpath,dims,arr_out,d)\n",
    "\n",
    "\n",
    "def subtract_wavefunctions(pathlist1,pathlist2,outpath,scfpath='scf.in'):        \n",
    "         \n",
    "    d = get_coords(scfpath)\n",
    "    \n",
    "    dims1, arr1 = get_sum_of_list(pathlist1, d)\n",
    "    dims2, arr2 = get_sum_of_list(pathlist2, d)\n",
    "    \n",
    "    arr_out = np.zeros(len(arr1))\n",
    "    \n",
    "    for i, row in enumerate(arr1):\n",
    "        arr_out[i] = arr1[i] - arr2[i]\n",
    "\n",
    "    write_xsf(outpath,dims1,arr_out,d)\n",
    "    \n",
    "    return arr_out\n"
   ]
  },
  {
   "cell_type": "code",
   "execution_count": 50,
   "metadata": {},
   "outputs": [],
   "source": [
    "homos = []\n",
    "lumos = []\n",
    "homo0 = []\n",
    "lumo0 = []\n",
    "homo3 = []\n",
    "lumo3 = []\n",
    "h0 = 'homo'\n",
    "h3 = 'lumo'\n",
    "\n",
    "pref = 'data/mos2/pp/'\n",
    "scfpath = pref +'scf.in'\n",
    "outpath = 'data/mos2/xsf/diff_of_diffs.xsf'\n",
    "\n",
    "for filepath in glob.iglob(pref +'y.3*.txt'):\n",
    "        if h0 in filepath:\n",
    "            homo3.append(filepath)\n",
    "        elif h3 in filepath:\n",
    "            lumo3.append(filepath)\n",
    "\n",
    "for filepath in glob.iglob(pref +'y.0*.txt'):\n",
    "        if h0 in filepath:\n",
    "            homo0.append(filepath)\n",
    "        elif h3 in filepath:\n",
    "            lumo0.append(filepath)            \n",
    "\n",
    "arr_out0 = subtract_wavefunctions(homo0, lumo0, outpath, scfpath)\n",
    "arr_out3 = subtract_wavefunctions(homo3, lumo3, outpath, scfpath)"
   ]
  },
  {
   "cell_type": "code",
   "execution_count": 57,
   "metadata": {},
   "outputs": [],
   "source": [
    "arr_final = np.abs(arr_out0) - np.abs(arr_out3)\n",
    "write_xsf(outpath,dims,arr_final,d)\n"
   ]
  },
  {
   "cell_type": "code",
   "execution_count": 48,
   "metadata": {},
   "outputs": [],
   "source": [
    "dims, arr = get_xsf_data('data/mos2/pp/x.3.g.homo.txt',d)\n",
    "\n",
    "\n",
    "\n",
    "# add_wavefunctions(homos,pref +'.homos.xsf',scfpath)\n",
    "# for i in homos:\n",
    "#     single_wavefunction(i,(i+'.xsf').replace('.txt',''),scfpath)\n",
    "\n",
    "# add_wavefunctions(lumos,pref +'.lumos.xsf',scfpath)\n",
    "# for i in lumos:\n",
    "#     single_wavefunction(i,(i+'.xsf').replace('.txt',''),scfpath)\n",
    "    \n",
    "# add_wavefunctions(homolumo,pref +'.homolumo.xsf',scfpath)\n",
    "# for i in homolumo:\n",
    "#     single_wavefunction(i,(i+'.xsf').replace('.txt',''),scfpath)\n",
    "    \n",
    "    "
   ]
  },
  {
   "cell_type": "code",
   "execution_count": 54,
   "metadata": {},
   "outputs": [
    {
     "data": {
      "text/plain": [
       "array([  4.58896256e-10,   4.75040410e-10,   5.22468131e-10, ...,\n",
       "         4.67857917e-10,   4.24893126e-10,   4.02530652e-10])"
      ]
     },
     "execution_count": 54,
     "metadata": {},
     "output_type": "execute_result"
    }
   ],
   "source": [
    "np.power(arr_out0,2)"
   ]
  },
  {
   "cell_type": "code",
   "execution_count": 56,
   "metadata": {},
   "outputs": [
    {
     "data": {
      "text/plain": [
       "array([  2.14218640e-05,   2.17954218e-05,   2.28575618e-05, ...,\n",
       "         2.16300235e-05,   2.06129359e-05,   2.00631665e-05])"
      ]
     },
     "execution_count": 56,
     "metadata": {},
     "output_type": "execute_result"
    }
   ],
   "source": [
    "arr_out0"
   ]
  },
  {
   "cell_type": "code",
   "execution_count": 90,
   "metadata": {},
   "outputs": [
    {
     "name": "stderr",
     "output_type": "stream",
     "text": [
      "c:\\users\\kory\\appdata\\local\\conda\\conda\\envs\\py3\\lib\\site-packages\\ipykernel_launcher.py:3: ParserWarning: Falling back to the 'python' engine because the 'c' engine does not support regex separators (separators > 1 char and different from '\\s+' are interpreted as regex); you can avoid this warning by specifying engine='python'.\n",
      "  This is separate from the ipykernel package so we can avoid doing imports until\n",
      "c:\\users\\kory\\appdata\\local\\conda\\conda\\envs\\py3\\lib\\site-packages\\ipykernel_launcher.py:4: ParserWarning: Falling back to the 'python' engine because the 'c' engine does not support regex separators (separators > 1 char and different from '\\s+' are interpreted as regex); you can avoid this warning by specifying engine='python'.\n",
      "  after removing the cwd from sys.path.\n"
     ]
    },
    {
     "data": {
      "text/plain": [
       "(0, 0.005)"
      ]
     },
     "execution_count": 90,
     "metadata": {},
     "output_type": "execute_result"
    },
    {
     "data": {
      "image/png": "[encoded data removed]",
      "text/plain": [
       "<matplotlib.figure.Figure at 0x25e0f366be0>"
      ]
     },
     "metadata": {},
     "output_type": "display_data"
    }
   ],
   "source": [
    "import pandas as pd\n",
    "import matplotlib.pylab as plt\n",
    "df1 = pd.read_csv('data/mos2/pp/jdos.dat', sep='       ',names=['E','JDOS'], skiprows=1)\n",
    "df2 = pd.read_csv('data/mos2/pp/jdos_bn.dat', sep='    ',names=['E','JDOS'], skiprows=1)\n",
    "plt.plot(df1.E,df1.JDOS)\n",
    "plt.plot(df2.E,df2.JDOS)\n",
    "\n",
    "plt.xlim([0,6])\n",
    "plt.ylim([0,0.005])"
   ]
  },
  {
   "cell_type": "code",
   "execution_count": null,
   "metadata": {
    "collapsed": true
   },
   "outputs": [],
   "source": []
  }
 ],
 "metadata": {
  "kernelspec": {
   "display_name": "Python 3",
   "language": "python",
   "name": "python3"
  },
  "language_info": {
   "codemirror_mode": {
    "name": "ipython",
    "version": 3
   },
   "file_extension": ".py",
   "mimetype": "text/x-python",
   "name": "python",
   "nbconvert_exporter": "python",
   "pygments_lexer": "ipython3",
   "version": "3.6.2"
  }
 },
 "nbformat": 4,
 "nbformat_minor": 2
}
